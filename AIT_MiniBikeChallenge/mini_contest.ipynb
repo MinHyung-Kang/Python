{
 "cells": [
  {
   "cell_type": "markdown",
   "metadata": {},
   "source": [
    "# Mini Contest\n",
    "## Daniel Kang (Data Mining A)"
   ]
  },
  {
   "cell_type": "markdown",
   "metadata": {},
   "source": [
    "### I. Get Data"
   ]
  },
  {
   "cell_type": "markdown",
   "metadata": {},
   "source": [
    "#### a) Get Values"
   ]
  },
  {
   "cell_type": "code",
   "execution_count": 1,
   "metadata": {
    "collapsed": false
   },
   "outputs": [
    {
     "name": "stdout",
     "output_type": "stream",
     "text": [
      "(6666L, 23L)\n"
     ]
    },
    {
     "data": {
      "text/plain": [
       "array([[   4.  ,    1.  ,    1.  ,  709.  ,   15.  ,   -4.  ,   68.8 ,\n",
       "           8.54,    8.8 ,   -7.54,    0.  ,    0.  ,    0.  ,    0.  ,\n",
       "           0.  ,    0.  ,    0.  ,    0.  ,    0.  ,    0.  ,    0.  ,\n",
       "           0.  ,    1.  ],\n",
       "       [   4.  ,    1.  ,    1.  ,  502.  ,   14.  ,   -4.  ,   68.8 ,\n",
       "           8.54,    8.8 ,   -7.54,    0.  ,    0.  ,    0.  ,    0.  ,\n",
       "           0.  ,    0.  ,    0.  ,    0.  ,    0.  ,    0.  ,    0.  ,\n",
       "           1.  ,    0.  ]])"
      ]
     },
     "execution_count": 1,
     "metadata": {},
     "output_type": "execute_result"
    }
   ],
   "source": [
    "import numpy as np\n",
    "import sys\n",
    "mini_data = np.loadtxt(\"./smaller_data.csv\", delimiter = \",\")\n",
    "print mini_data.shape\n",
    "num_records = mini_data.shape[0]\n",
    "num_features = mini_data.shape[1]\n",
    "mini_data[0:2,0:num_features]\n"
   ]
  },
  {
   "cell_type": "markdown",
   "metadata": {},
   "source": [
    "#### b) Get Header"
   ]
  },
  {
   "cell_type": "code",
   "execution_count": 20,
   "metadata": {
    "collapsed": false
   },
   "outputs": [
    {
     "data": {
      "text/plain": [
       "array(['\"weekday\"', '\"dayofyear\"', '\"month\"', '\"place_id\"',\n",
       "       '\"num_of_rack\"', '\"Temperature\"', '\"Humidity\"', '\"WindSpeed\"',\n",
       "       '\"Visibility\"', '\"WindChill\"', '\"Fog\"', '\"Rain\"', '\"Snow\"',\n",
       "       '\"Hail\"', '\"Thunder\"', '\"Day_-7\"', '\"Day_-6\"', '\"Day_-5\"',\n",
       "       '\"Day_-4\"', '\"Day_-3\"', '\"Day_-2\"', '\"Day_-1\"', '\"Day_0\"'], \n",
       "      dtype='|S13')"
      ]
     },
     "execution_count": 20,
     "metadata": {},
     "output_type": "execute_result"
    }
   ],
   "source": [
    "mini_header = np.loadtxt(\"./smaller_header.csv\", delimiter = \",\", dtype=\"string\")\n",
    "mini_header[0:num_features]"
   ]
  },
  {
   "cell_type": "markdown",
   "metadata": {},
   "source": [
    "#### c) Get Data type"
   ]
  },
  {
   "cell_type": "code",
   "execution_count": 12,
   "metadata": {
    "collapsed": false
   },
   "outputs": [
    {
     "data": {
      "text/plain": [
       "array(['\"numeric\"', '\"numeric\"', '\"numeric\"', '\"integer\"', '\"numeric\"',\n",
       "       '\"numeric\"', '\"numeric\"', '\"numeric\"', '\"numeric\"', '\"numeric\"',\n",
       "       '\"numeric\"', '\"numeric\"', '\"numeric\"', '\"numeric\"', '\"numeric\"',\n",
       "       '\"integer\"', '\"integer\"', '\"integer\"', '\"integer\"', '\"integer\"',\n",
       "       '\"integer\"', '\"integer\"', '\"integer\"'], \n",
       "      dtype='|S9')"
      ]
     },
     "execution_count": 12,
     "metadata": {},
     "output_type": "execute_result"
    }
   ],
   "source": [
    "mini_type = np.loadtxt(\"./smaller_type.csv\", delimiter = \",\", dtype=\"string\")\n",
    "mini_type"
   ]
  },
  {
   "cell_type": "markdown",
   "metadata": {},
   "source": [
    "#### d) Convert the data to numeric data type (Not necessary since it was all processed in R)"
   ]
  },
  {
   "cell_type": "code",
   "execution_count": 52,
   "metadata": {
    "collapsed": false
   },
   "outputs": [],
   "source": [
    "mini_numeric = np.zeros((num_records,num_features))\n",
    "\n",
    "string_to_num = {}\n",
    "for j in range(num_features) : \n",
    "    dummy = 0\n",
    "    type = mini_type[j].lstrip('\"').rstrip('\"')\n",
    "    if(type == 'integer'):\n",
    "        for i in range(num_records):\n",
    "            mini_numeric[i][j] = int(mini_data[i][j])\n",
    "    elif (type == 'numeric'): \n",
    "        for i in range(num_records):\n",
    "            mini_numeric[i][j] = float(mini_data[i][j])\n",
    "    else :\n",
    "        for i in range(num_records):\n",
    "            key = mini_data[i][j]\n",
    "            \n",
    "            if key in string_to_num.keys() : \n",
    "                mini_numeric[i][j] = int(string_to_num[key])\n",
    "            else : \n",
    "                string_to_num[key] = int(dummy)\n",
    "                mini_numeric[i][j] = int(dummy)\n",
    "                dummy += 1\n",
    "                \n",
    "                \n",
    "np.savetxt(\"./smaller-numeric.txt\", mini_numeric, fmt='%.1f', delimiter = \" \")\n",
    "            \n"
   ]
  },
  {
   "cell_type": "markdown",
   "metadata": {},
   "source": [
    "### II. Data Exploration"
   ]
  },
  {
   "cell_type": "markdown",
   "metadata": {},
   "source": [
    "#### Load numeric Data"
   ]
  },
  {
   "cell_type": "code",
   "execution_count": 2,
   "metadata": {
    "collapsed": false
   },
   "outputs": [],
   "source": [
    "#Load the numeric data\n",
    "# mini_numeric = np.loadtxt(\"./smaller-numeric.txt\", delimiter = \" \")\n",
    "\n",
    "#Separte the target and Data\n",
    "miniLabel=mini_data[:,num_features-1]\n",
    "miniData=np.copy(mini_data[:,0:num_features-1])\n"
   ]
  },
  {
   "cell_type": "code",
   "execution_count": 4,
   "metadata": {
    "collapsed": false
   },
   "outputs": [
    {
     "name": "stdout",
     "output_type": "stream",
     "text": [
      "[[  4.   1.   1. ...,   0.   0.   0.]\n",
      " [  4.   1.   1. ...,   0.   0.   1.]\n",
      " [  4.   1.   1. ...,   0.   1.   0.]\n",
      " ..., \n",
      " [  2.  90.   3. ...,   0.   0.   0.]\n",
      " [  2.  90.   3. ...,   0.   0.   0.]\n",
      " [  2.  90.   3. ...,   0.   0.   0.]]\n",
      "[ 1.  0.  0. ...,  0.  0.  1.]\n"
     ]
    }
   ],
   "source": [
    "print miniData\n",
    "print miniLabel"
   ]
  },
  {
   "cell_type": "markdown",
   "metadata": {},
   "source": [
    "#### We observe correlation between the attributes and the prediction. "
   ]
  },
  {
   "cell_type": "code",
   "execution_count": null,
   "metadata": {
    "collapsed": true
   },
   "outputs": [],
   "source": [
    "from sklearn.preprocessing import normalize\n",
    "\n",
    "sample = [1,2,5,6,8,9,11,12]\n",
    "#sample = [0,3,4,7,10]\n",
    "smallData = miniData[:,sample]\n",
    "smallHeader = mini_header[sample]\n",
    "smallData_norm = smallData\n",
    "#smallData_norm = normalize(smallData)"
   ]
  },
  {
   "cell_type": "code",
   "execution_count": 31,
   "metadata": {
    "collapsed": false
   },
   "outputs": [
    {
     "name": "stdout",
     "output_type": "stream",
     "text": [
      "\"weekday\" : (0.0054576854751456497, 0.65594717106725675)\n",
      "\"dayofyear\" : (0.16333151054335229, 4.4324856773861893e-41)\n",
      "\"month\" : (0.15307530460696844, 3.0981252599144282e-36)\n",
      "\"place_id\" : (-0.028647000921067534, 0.019338423231755334)\n",
      "\"num_of_rack\" : (0.064833361451254359, 1.1711731869849759e-07)\n",
      "\"Temperature\" : (0.14727093329344265, 1.2263214742924925e-33)\n",
      "\"Humidity\" : (-0.11811259197234673, 3.8341854780940389e-22)\n",
      "\"WindSpeed\" : (0.0073501967190646358, 0.54850183456604462)\n",
      "\"Visibility\" : (-0.12820502247295798, 7.8687316065537564e-26)\n",
      "\"WindChill\" : (-0.15758055818881028, 2.5309088570261897e-38)\n",
      "\"Fog\" : (-0.014320309974890592, 0.24239129349361149)\n",
      "\"Rain\" : (-0.062137811068241795, 3.8297221823577643e-07)\n",
      "\"Snow\" : (-0.06262136224268966, 3.1072912241526592e-07)\n",
      "\"Hail\" : (nan, 1.0)\n",
      "\"Thunder\" : (nan, 1.0)\n",
      "\"Day_-7\" : (0.046878653037926828, 0.00012875820945344957)\n",
      "\"Day_-6\" : (0.050069018443911775, 4.3190869671746745e-05)\n",
      "\"Day_-5\" : (0.045283470334934343, 0.00021696383767788813)\n",
      "\"Day_-4\" : (0.01657018168106978, 0.17614472463234693)\n",
      "\"Day_-3\" : (0.021355729790047205, 0.08125108292664987)\n",
      "\"Day_-2\" : (0.011784633572092357, 0.33604148982280591)\n",
      "\"Day_-1\" : (0.043688287631941873, 0.00035973029345587299)\n"
     ]
    }
   ],
   "source": [
    "from scipy.stats.stats import pearsonr   \n",
    "\n",
    "%matplotlib inline\n",
    "import matplotlib\n",
    "import matplotlib.pyplot as plt\n",
    "\n",
    "X = range(num_features-1)\n",
    "correlation = []\n",
    "\n",
    "for i in X :\n",
    "    feature = miniData[:,i]\n",
    "    cor = pearsonr(feature,miniLabel)\n",
    "    correlation.append(cor)\n",
    "    print mini_header[i],\":\",cor\n",
    "\n"
   ]
  },
  {
   "cell_type": "markdown",
   "metadata": {},
   "source": [
    "#### Observations :\n",
    "    -Hail and thunder gives NA values since they are 0 over all dates"
   ]
  },
  {
   "cell_type": "markdown",
   "metadata": {},
   "source": [
    "#### Look at correlation matrix between the variables of low p-values"
   ]
  },
  {
   "cell_type": "code",
   "execution_count": 55,
   "metadata": {
    "collapsed": false
   },
   "outputs": [
    {
     "name": "stdout",
     "output_type": "stream",
     "text": [
      "['\"dayofyear\"' '\"month\"' '\"num_of_rack\"' '\"Temperature\"' '\"Humidity\"'\n",
      " '\"Visibility\"' '\"WindChill\"' '\"Rain\"' '\"Snow\"' '\"Day_-6\"']\n",
      "[[ 1.          0.99989907  1.         ...,  0.01811435  0.01797546\n",
      "   0.01785387]\n",
      " [ 0.99989907  1.          0.99989907 ...,  0.01641798  0.01629771\n",
      "   0.01619242]\n",
      " [ 1.          0.99989907  1.         ...,  0.01811435  0.01797546\n",
      "   0.01785387]\n",
      " ..., \n",
      " [ 0.01811435  0.01641798  0.01811435 ...,  1.          0.99999912\n",
      "   0.99999691]\n",
      " [ 0.01797546  0.01629771  0.01797546 ...,  0.99999912  1.          0.99999933]\n",
      " [ 0.01785387  0.01619242  0.01785387 ...,  0.99999691  0.99999933  1.        ]]\n"
     ]
    }
   ],
   "source": [
    "# Pick out features\n",
    "corSet = [1,2,4,5,6,8,9,11,12,16]\n",
    "corData = miniData[:,corSet]\n",
    "corHeader = mini_header[corSet]\n",
    "\n",
    "print corHeader\n",
    "\n",
    "n = len (corSet)\n",
    "\n",
    "#Compute and print out correlation matrix\n",
    "mat = np.corrcoef(corData)\n",
    "print mat\n"
   ]
  },
  {
   "cell_type": "markdown",
   "metadata": {},
   "source": [
    "### III. Data Analysis"
   ]
  },
  {
   "cell_type": "markdown",
   "metadata": {},
   "source": [
    "#### Simple Decision Tree"
   ]
  },
  {
   "cell_type": "markdown",
   "metadata": {},
   "source": [
    "#### Choose attributes : \n",
    "Out of ['\"dayofyear\"' '\"month\"' '\"num_of_rack\"' '\"Temperature\"' '\"Humidity\"'\n",
    " '\"Visibility\"' '\"WindChill\"' '\"Rain\"' '\"Snow\"' '\"Day_-6\"'] we pick month, \"num_of_rack\" day_-6 for test (attributes with few values for domain)"
   ]
  },
  {
   "cell_type": "code",
   "execution_count": 237,
   "metadata": {
    "collapsed": false
   },
   "outputs": [
    {
     "name": "stdout",
     "output_type": "stream",
     "text": [
      "[[  1.  15.   0.]\n",
      " [  1.  14.   0.]\n",
      " [  1.  15.   0.]\n",
      " ..., \n",
      " [  3.  30.   0.]\n",
      " [  3.  22.   0.]\n",
      " [  3.  15.   0.]]\n",
      "['\"month\"' '\"num_of_rack\"' '\"Day_-6\"']\n"
     ]
    }
   ],
   "source": [
    "treeSample = [2,4,16]\n",
    "treeData = miniData[:,treeSample]\n",
    "treeHeader = mini_header[treeSample]\n",
    "\n",
    "print treeData\n",
    "print treeHeader"
   ]
  },
  {
   "cell_type": "code",
   "execution_count": 238,
   "metadata": {
    "collapsed": false
   },
   "outputs": [
    {
     "name": "stdout",
     "output_type": "stream",
     "text": [
      "[0.53357142857142859, 0.58903891059644664, 0.56835741170687182, 0.59964992683948737, 0.61591079890243849, 0.61963967585147317, 0.60784366335953732, 0.60941656156515722, 0.60951844955040468, 0.60960629690478607, 0.60960629690478607, 0.60960629690478607, 0.60960629690478607, 0.60960629690478607, 0.60960629690478607, 0.60960629690478607, 0.60960629690478607, 0.60960629690478607, 0.60960629690478607, 0.60960629690478607]\n"
     ]
    },
    {
     "data": {
      "text/plain": [
       "[<matplotlib.lines.Line2D at 0x8d9a4ac8>]"
      ]
     },
     "execution_count": 238,
     "metadata": {},
     "output_type": "execute_result"
    },
    {
     "data": {
      "image/png": "[encoded data removed]",
      "text/plain": [
       "<matplotlib.figure.Figure at 0x9274f6d8>"
      ]
     },
     "metadata": {},
     "output_type": "display_data"
    }
   ],
   "source": [
    "from sklearn import cross_validation\n",
    "from sklearn import tree\n",
    "\n",
    "simple_tree=[]\n",
    "index = []\n",
    "\n",
    "n=20\n",
    "X = range(1,n+1)\n",
    "for i in X:\n",
    "    dt = tree.DecisionTreeClassifier(random_state=0,max_depth=i)\n",
    "    cv_auc=cross_validation.cross_val_score(dt, treeData, miniLabel, scoring='roc_auc', cv=10)\n",
    "    simple_tree.append( sum(cv_auc) / float(len(cv_auc)) )\n",
    "    \n",
    "print simple_tree\n",
    "\n",
    "%matplotlib inline\n",
    "import matplotlib.pyplot as plt\n",
    "plt.plot(X,simple_tree, linewidth=4.0)\n"
   ]
  },
  {
   "cell_type": "markdown",
   "metadata": {},
   "source": [
    "#### We see we reach maximum at n=6"
   ]
  },
  {
   "cell_type": "markdown",
   "metadata": {},
   "source": [
    "#### Simple K-nn Classifier\n",
    "##### Normalize Data"
   ]
  },
  {
   "cell_type": "code",
   "execution_count": 137,
   "metadata": {
    "collapsed": false
   },
   "outputs": [
    {
     "name": "stdout",
     "output_type": "stream",
     "text": [
      "[[  7.09000000e+02   1.50000000e+01   0.00000000e+00   0.00000000e+00\n",
      "    0.00000000e+00]\n",
      " [  5.02000000e+02   1.40000000e+01   0.00000000e+00   0.00000000e+00\n",
      "    0.00000000e+00]\n",
      " [  5.03000000e+02   1.50000000e+01   0.00000000e+00   0.00000000e+00\n",
      "    0.00000000e+00]\n",
      " ..., \n",
      " [  5.05000000e+02   3.00000000e+01   0.00000000e+00   2.00000000e-01\n",
      "    0.00000000e+00]\n",
      " [  5.04000000e+02   2.20000000e+01   0.00000000e+00   2.00000000e-01\n",
      "    0.00000000e+00]\n",
      " [  1.02000000e+02   1.50000000e+01   0.00000000e+00   2.00000000e-01\n",
      "    0.00000000e+00]]\n",
      "['\"place_id\"' '\"num_of_rack\"' '\"Fog\"' '\"Rain\"' '\"Snow\"']\n",
      "[[  9.99776275e-01   2.11518253e-02   0.00000000e+00   0.00000000e+00\n",
      "    0.00000000e+00]\n",
      " [  9.99611344e-01   2.78776072e-02   0.00000000e+00   0.00000000e+00\n",
      "    0.00000000e+00]\n",
      " [  9.99555648e-01   2.98078225e-02   0.00000000e+00   0.00000000e+00\n",
      "    0.00000000e+00]\n",
      " ..., \n",
      " [  9.98240046e-01   5.93013889e-02   0.00000000e+00   3.95342592e-04\n",
      "    0.00000000e+00]\n",
      " [  9.99048585e-01   4.36092636e-02   0.00000000e+00   3.96447851e-04\n",
      "    0.00000000e+00]\n",
      " [  9.89357274e-01   1.45493717e-01   0.00000000e+00   1.93991622e-03\n",
      "    0.00000000e+00]]\n"
     ]
    }
   ],
   "source": [
    "from sklearn.preprocessing import normalize\n",
    "\n",
    "knnSample = [3,4,10,11,12]\n",
    "knnData = miniData[:,knnSample]\n",
    "knnHeader = mini_header[knnSample]\n",
    "knnData_norm = normalize(knnData)\n",
    "\n",
    "print knnData\n",
    "print knnHeader\n",
    "print knnData_norm\n"
   ]
  },
  {
   "cell_type": "code",
   "execution_count": 133,
   "metadata": {
    "collapsed": false
   },
   "outputs": [
    {
     "name": "stdout",
     "output_type": "stream",
     "text": [
      "[0.56844614467475396, 0.60619116296142039, 0.62840582350800189, 0.64172532274286032, 0.65870563275679261, 0.66919942494168239, 0.67135534409074782, 0.67291770177663435, 0.68793555860536115, 0.69554094690507928, 0.69754793788448599, 0.69676392777256757, 0.69913265483204967, 0.70474843551015309, 0.70809951584626551, 0.71408352513577289, 0.71222275576977545, 0.71461043352505527, 0.71483937771326622, 0.7148085764970169, 0.71828051011412486, 0.71929592356787952, 0.71968603838191869, 0.72451259213725849, 0.72920988597031988, 0.73137408941003146, 0.73527661692540958, 0.7384315359814696, 0.73973390927650118, 0.73922477692301203, 0.73968362025866852, 0.7432398055040349, 0.7442376341343091, 0.74589015865040209, 0.74679708393906929, 0.74774494995027307, 0.75015658567572296, 0.74960482312618537, 0.74889272294182119, 0.7507602737753809, 0.75232822658985987, 0.75135799463097441, 0.75066993362593859, 0.75318101286690775, 0.75450469717677016, 0.75244913045483108, 0.75249294835081804, 0.75484469181939651, 0.7543965941390387, 0.75416675087802187, 0.75601208662051433, 0.75701173915850906, 0.75757812886462739, 0.75783723318106588, 0.75679254052107203, 0.75790416364545321, 0.75823386940471993, 0.75865088836234296, 0.75834099494983398, 0.76013527528142844, 0.7598528727521322, 0.759557044498547, 0.75911804753629153, 0.75783680051031133, 0.75755050044560679, 0.75634849549117744, 0.75590005768254143, 0.75537898225969036, 0.75349726476329937, 0.75278566898283639, 0.7525076516764716, 0.75036768655774555, 0.75154266074044718, 0.75101851335837932, 0.75080862615894861, 0.74827512127829365, 0.74747778280166055, 0.74630753283115081, 0.74730676316309119, 0.74726860475317569]\n",
      "0.759557044499\n"
     ]
    },
    {
     "data": {
      "image/png": "[encoded data removed]",
      "text/plain": [
       "<matplotlib.figure.Figure at 0xc519bc18>"
      ]
     },
     "metadata": {},
     "output_type": "display_data"
    }
   ],
   "source": [
    "%matplotlib inline\n",
    "import matplotlib\n",
    "import matplotlib.pyplot as plt\n",
    "\n",
    "from sklearn.neighbors import KNeighborsClassifier\n",
    "from sklearn.cross_validation import KFold\n",
    "from sklearn import metrics\n",
    "\n",
    "\n",
    "n=80\n",
    "X=range(1,n+1)\n",
    "knn_val = []\n",
    "\n",
    "#k-nn\n",
    "kf = KFold(len(knnData_norm), n_folds=10)\n",
    "\n",
    "for i in X :\n",
    "    auc=0\n",
    "    for train, test in kf :\n",
    "        data_train, data_test, labels_train, labels_test = knnData_norm[train], knnData_norm[test], miniLabel[train], miniLabel[test]\n",
    "        neigh = KNeighborsClassifier(n_neighbors=i)\n",
    "        neigh.fit(data_train, labels_train)\n",
    "        prob = neigh.predict_proba(data_test)\n",
    "        auc += metrics.roc_auc_score(labels_test, prob[:,1])\n",
    "    knn_val.append(auc/10)\n",
    "\n",
    "#Plot the results\n",
    "\n",
    "plt.figure(figsize=(15,10))\n",
    "plt.axis([0,n+2,0,1])\n",
    "\n",
    "line_knn_val = plt.plot(X, knn_val, color='red', label = 'K-nn ')\n",
    "\n",
    "import matplotlib.patches as mpatches\n",
    "\n",
    "red_patch = mpatches.Patch(color='red', label='K-nn')\n",
    "plt.legend(handles=[red_patch])\n",
    "\n",
    "print knn_val"
   ]
  },
  {
   "cell_type": "code",
   "execution_count": 266,
   "metadata": {
    "collapsed": false
   },
   "outputs": [
    {
     "name": "stdout",
     "output_type": "stream",
     "text": [
      "60\n",
      "0.760135275281\n"
     ]
    }
   ],
   "source": [
    "print knn_val.index(max(knn_val)) + 1\n",
    "print max(knn_val)"
   ]
  },
  {
   "cell_type": "markdown",
   "metadata": {},
   "source": [
    "We observe that it reaches maximum at n=60"
   ]
  },
  {
   "cell_type": "markdown",
   "metadata": {
    "collapsed": true
   },
   "source": [
    "#### Naive-Bayes"
   ]
  },
  {
   "cell_type": "markdown",
   "metadata": {},
   "source": [
    "#### Continuous Data"
   ]
  },
  {
   "cell_type": "code",
   "execution_count": 206,
   "metadata": {
    "collapsed": false
   },
   "outputs": [
    {
     "name": "stdout",
     "output_type": "stream",
     "text": [
      "[[  1.00000000e+00   7.09000000e+02   1.50000000e+01 ...,   0.00000000e+00\n",
      "    0.00000000e+00   0.00000000e+00]\n",
      " [  1.00000000e+00   5.02000000e+02   1.40000000e+01 ...,   0.00000000e+00\n",
      "    0.00000000e+00   0.00000000e+00]\n",
      " [  1.00000000e+00   5.03000000e+02   1.50000000e+01 ...,   0.00000000e+00\n",
      "    0.00000000e+00   0.00000000e+00]\n",
      " ..., \n",
      " [  3.00000000e+00   5.05000000e+02   3.00000000e+01 ...,   0.00000000e+00\n",
      "    2.00000000e-01   0.00000000e+00]\n",
      " [  3.00000000e+00   5.04000000e+02   2.20000000e+01 ...,   0.00000000e+00\n",
      "    2.00000000e-01   0.00000000e+00]\n",
      " [  3.00000000e+00   1.02000000e+02   1.50000000e+01 ...,   0.00000000e+00\n",
      "    2.00000000e-01   0.00000000e+00]]\n",
      "['\"month\"' '\"place_id\"' '\"num_of_rack\"' '\"Temperature\"' '\"Visibility\"'\n",
      " '\"WindChill\"' '\"Fog\"' '\"Rain\"' '\"Snow\"']\n"
     ]
    }
   ],
   "source": [
    "from sklearn.preprocessing import normalize\n",
    "\n",
    "cnbSample = [2,3,4,5,8,9,10,11,12]\n",
    "cnbData = miniData[:,cnbSample]\n",
    "cnbHeader = mini_header[cnbSample]\n",
    "\n",
    "print cnbData\n",
    "print cnbHeader"
   ]
  },
  {
   "cell_type": "code",
   "execution_count": 207,
   "metadata": {
    "collapsed": false
   },
   "outputs": [
    {
     "name": "stdout",
     "output_type": "stream",
     "text": [
      "0.686728830787\n"
     ]
    }
   ],
   "source": [
    "from sklearn import naive_bayes\n",
    "from sklearn import metrics\n",
    "from sklearn.cross_validation import train_test_split\n",
    "\n",
    "cnbData_train, cnbData_test, cnbLabel_train, cnbLabel_test = train_test_split(cnbData, miniLabel, test_size=0.33, random_state=42)\n",
    "\n",
    "cnb = naive_bayes.GaussianNB()\n",
    "cnb.fit(cnbData_train, cnbLabel_train)\n",
    "cprobabilities= cnb.predict_proba(cnbData_test)\n",
    "print metrics.roc_auc_score(cnbLabel_test, cprobabilities[:,1])\n"
   ]
  },
  {
   "cell_type": "markdown",
   "metadata": {},
   "source": [
    "#### Discrete Data"
   ]
  },
  {
   "cell_type": "code",
   "execution_count": 231,
   "metadata": {
    "collapsed": false
   },
   "outputs": [
    {
     "name": "stdout",
     "output_type": "stream",
     "text": [
      "[[   4.     1.   709.    15.    68.8    0. ]\n",
      " [   4.     1.   502.    14.    68.8    0. ]\n",
      " [   4.     1.   503.    15.    68.8    0. ]\n",
      " ..., \n",
      " [   2.    90.   505.    30.    67.2    0. ]\n",
      " [   2.    90.   504.    22.    67.2    0. ]\n",
      " [   2.    90.   102.    15.    67.2    0. ]]\n",
      "['\"weekday\"' '\"dayofyear\"' '\"place_id\"' '\"num_of_rack\"' '\"Humidity\"'\n",
      " '\"Day_-6\"']\n"
     ]
    }
   ],
   "source": [
    "from sklearn.preprocessing import normalize\n",
    "\n",
    "dnbSample = [0,1,3,4,6,16]\n",
    "dnbData = miniData[:,dnbSample]\n",
    "dnbHeader = mini_header[dnbSample]\n",
    "\n",
    "print dnbData\n",
    "print dnbHeader"
   ]
  },
  {
   "cell_type": "code",
   "execution_count": 232,
   "metadata": {
    "collapsed": false
   },
   "outputs": [
    {
     "name": "stdout",
     "output_type": "stream",
     "text": [
      "0.685464136808\n"
     ]
    }
   ],
   "source": [
    "#Discrete Dataset\n",
    "\n",
    "from sklearn import naive_bayes\n",
    "from sklearn import metrics\n",
    "from sklearn.cross_validation import train_test_split\n",
    "\n",
    "dnbData_train, dnbData_test, dnbLabel_train, dnbLabel_test = train_test_split(dnbData, miniLabel, test_size=0.33, random_state=42)\n",
    "\n",
    "dnb = naive_bayes.MultinomialNB(alpha = 2)\n",
    "dnb.fit(dnbData_train, dnbLabel_train)\n",
    "dprobabilities= dnb.predict_proba(dnbData_test)\n",
    "print metrics.roc_auc_score(dnbLabel_test, dprobabilities[:,1])"
   ]
  },
  {
   "cell_type": "markdown",
   "metadata": {},
   "source": [
    "#### Combine scores"
   ]
  },
  {
   "cell_type": "code",
   "execution_count": 233,
   "metadata": {
    "collapsed": false
   },
   "outputs": [
    {
     "data": {
      "text/plain": [
       "[<matplotlib.lines.Line2D at 0x17b4be978>]"
      ]
     },
     "execution_count": 233,
     "metadata": {},
     "output_type": "execute_result"
    },
    {
     "data": {
      "image/png": "[encoded data removed]",
      "text/plain": [
       "<matplotlib.figure.Figure at 0x17b626f60>"
      ]
     },
     "metadata": {},
     "output_type": "display_data"
    }
   ],
   "source": [
    "weights = [0,0.1,0.2,0.3,0.4,0.5,0.6,0.7,0.8,0.9,1]\n",
    "auc_scores = []\n",
    "for weight in weights:\n",
    "    auc_scores.append(metrics.roc_auc_score(dnbLabel_test, weight * cprobabilities[:,1] + (1 - weight) * dprobabilities[:,1]))\n",
    "    \n",
    "%matplotlib inline\n",
    "import matplotlib.pyplot as plt\n",
    "plt.plot(weights,auc_scores,linewidth=4.0)"
   ]
  },
  {
   "cell_type": "code",
   "execution_count": 269,
   "metadata": {
    "collapsed": false
   },
   "outputs": [
    {
     "name": "stdout",
     "output_type": "stream",
     "text": [
      "0.3\n",
      "0.697696962852\n"
     ]
    }
   ],
   "source": [
    "print weights[auc_scores.index(max(auc_scores))]\n",
    "print max(auc_scores)"
   ]
  },
  {
   "cell_type": "markdown",
   "metadata": {},
   "source": [
    "## IV. Bagging, Boosting"
   ]
  },
  {
   "cell_type": "markdown",
   "metadata": {},
   "source": [
    "#### Bagging"
   ]
  },
  {
   "cell_type": "code",
   "execution_count": 250,
   "metadata": {
    "collapsed": false
   },
   "outputs": [
    {
     "name": "stdout",
     "output_type": "stream",
     "text": [
      "[0.6836053307733575, 0.68578060441784083, 0.7068627589387394, 0.71552150097410849, 0.72896960969779112, 0.73632012875172947, 0.72843314415864313, 0.71843088535637312, 0.71960852133156405, 0.71700266350434361, 0.71872852961383893, 0.7167861949534593, 0.7068780529124431, 0.70131457586281543, 0.70571100507289342, 0.70675452466329736, 0.71637208120394169, 0.71125801168930169, 0.71404151490338919, 0.7106909582027463]\n"
     ]
    },
    {
     "data": {
      "text/plain": [
       "[<matplotlib.lines.Line2D at 0x6b4f4240>]"
      ]
     },
     "execution_count": 250,
     "metadata": {},
     "output_type": "execute_result"
    },
    {
     "data": {
      "image/png": "[encoded data removed]",
      "text/plain": [
       "<matplotlib.figure.Figure at 0x4d93b748>"
      ]
     },
     "metadata": {},
     "output_type": "display_data"
    }
   ],
   "source": [
    "from sklearn import cross_validation\n",
    "from sklearn import tree\n",
    "from sklearn import ensemble\n",
    "\n",
    "bagData_train, bagData_test, bagLabel_train, bagLabel_test = train_test_split(miniData, miniLabel, test_size=0.33, random_state=42)\n",
    "\n",
    "bagging_tree=[]\n",
    "index = []\n",
    "\n",
    "n=20\n",
    "X = range(1,n+1)\n",
    "for i in X:\n",
    "    bagging_dt=ensemble.BaggingClassifier (\n",
    "    base_estimator=tree.DecisionTreeClassifier(random_state=0,max_depth=i ,min_samples_leaf=5), \n",
    "    n_estimators=45)\n",
    "    bagging_dt.fit(bagData_train,bagLabel_train)\n",
    "    probabilities_bg_dt = bagging_dt.predict_proba(bagData_test)\n",
    "    bagging_tree.append(metrics.roc_auc_score(bagLabel_test,probabilities_bg_dt[:,1],sample_weight=None))\n",
    "    \n",
    "    \n",
    "print bagging_tree\n",
    "\n",
    "%matplotlib inline\n",
    "import matplotlib.pyplot as plt\n",
    "plt.plot(X,bagging_tree, linewidth=4.0)"
   ]
  },
  {
   "cell_type": "markdown",
   "metadata": {},
   "source": [
    "Maximized when N=6, AUC = 0.736"
   ]
  },
  {
   "cell_type": "markdown",
   "metadata": {},
   "source": [
    "#### Bagging for selected features"
   ]
  },
  {
   "cell_type": "code",
   "execution_count": 241,
   "metadata": {
    "collapsed": false
   },
   "outputs": [
    {
     "name": "stdout",
     "output_type": "stream",
     "text": [
      "[0.63420108987209534, 0.68691235847192034, 0.69067938184111199, 0.69096408504390538, 0.68825234586027428, 0.68253004677603024, 0.68350062587646243, 0.6811912358471921, 0.68234298971303808, 0.68204887483411925, 0.68235946014625748, 0.68762058710035678, 0.68064418217240308, 0.68170770157457361, 0.68080418066653503, 0.68271710383902273, 0.68559472381436415, 0.68220181457115714, 0.68252887031651488, 0.68242651833865109]\n"
     ]
    },
    {
     "data": {
      "text/plain": [
       "[<matplotlib.lines.Line2D at 0x90d25ef0>]"
      ]
     },
     "execution_count": 241,
     "metadata": {},
     "output_type": "execute_result"
    },
    {
     "data": {
      "image/png": "[encoded data removed]",
      "text/plain": [
       "<matplotlib.figure.Figure at 0x9da840b8>"
      ]
     },
     "metadata": {},
     "output_type": "display_data"
    }
   ],
   "source": [
    "from sklearn import cross_validation\n",
    "from sklearn import tree\n",
    "from sklearn import ensemble\n",
    "\n",
    "sbagData_train, sbagData_test, sbagLabel_train, sbagLabel_test = train_test_split(treeData, miniLabel, test_size=0.33, random_state=42)\n",
    "\n",
    "sbagging_tree=[]\n",
    "index = []\n",
    "\n",
    "n=20\n",
    "X = range(1,n+1)\n",
    "for i in X:\n",
    "    sbagging_dt=ensemble.BaggingClassifier (\n",
    "    base_estimator=tree.DecisionTreeClassifier(random_state=0,max_depth=i ,min_samples_leaf=5), \n",
    "    n_estimators=60)\n",
    "    sbagging_dt.fit(sbagData_train,sbagLabel_train)\n",
    "    sprobabilities_bg_dt = sbagging_dt.predict_proba(sbagData_test)\n",
    "    sbagging_tree.append(metrics.roc_auc_score(sbagLabel_test,sprobabilities_bg_dt[:,1],sample_weight=None))\n",
    "    \n",
    "    \n",
    "print sbagging_tree\n",
    "\n",
    "%matplotlib inline\n",
    "import matplotlib.pyplot as plt\n",
    "plt.plot(X,sbagging_tree, linewidth=4.0)"
   ]
  },
  {
   "cell_type": "markdown",
   "metadata": {},
   "source": [
    "Not as good as general bagging"
   ]
  },
  {
   "cell_type": "markdown",
   "metadata": {},
   "source": [
    "#### Gradient Boost Trees"
   ]
  },
  {
   "cell_type": "code",
   "execution_count": 256,
   "metadata": {
    "collapsed": false
   },
   "outputs": [
    {
     "name": "stdout",
     "output_type": "stream",
     "text": [
      "1\n",
      "2\n",
      "3\n",
      "4\n",
      "5\n",
      "6\n",
      "7\n",
      "8\n",
      "9\n",
      "10\n",
      "[0.17997728781602182, 0.14850382239023388, 0.15069052537092534, 0.14901423789553053, 0.15337401934003489, 0.1451033781862196, 0.15009086784939057, 0.14428656596645967, 0.13516207901348937, 0.1402580469382233]\n"
     ]
    },
    {
     "data": {
      "text/plain": [
       "[<matplotlib.lines.Line2D at 0xa729f470>]"
      ]
     },
     "execution_count": 256,
     "metadata": {},
     "output_type": "execute_result"
    },
    {
     "data": {
      "image/png": "[encoded data removed]",
      "text/plain": [
       "<matplotlib.figure.Figure at 0x26f2b208>"
      ]
     },
     "metadata": {},
     "output_type": "display_data"
    }
   ],
   "source": [
    "from sklearn import cross_validation\n",
    "from sklearn.ensemble import GradientBoostingClassifier\n",
    "\n",
    "n = 5\n",
    "X = range(1,n+1)\n",
    "\n",
    "GBT_values = []\n",
    "\n",
    "for k in X : \n",
    "    print k\n",
    "    GBT = GradientBoostingClassifier(n_estimators=100, learning_rate=0.5, max_depth=k, random_state=0,loss='deviance')\n",
    "    cv_auc=cross_validation.cross_val_score(GBT, miniData, miniLabel, scoring='roc_auc', cv=10)\n",
    "    \n",
    "    auc=0\n",
    "    for i in range(len(cv_auc)):\n",
    "        auc = auc + cv_auc[i]\n",
    "    auc = auc/10\n",
    "    GBT_values.append(auc)\n",
    "\n",
    "print GBT_values\n",
    "\n",
    "plt.plot(X,GBT_values)"
   ]
  },
  {
   "cell_type": "markdown",
   "metadata": {},
   "source": [
    "#### Gradient Boost Trees for selected features"
   ]
  },
  {
   "cell_type": "code",
   "execution_count": 258,
   "metadata": {
    "collapsed": false
   },
   "outputs": [
    {
     "name": "stdout",
     "output_type": "stream",
     "text": [
      "1\n",
      "2\n",
      "3\n",
      "4\n",
      "5\n",
      "[0.60815889281932867, 0.61944742564749622, 0.61117089700524829, 0.6099050068343691, 0.61000035605921343]\n"
     ]
    },
    {
     "data": {
      "text/plain": [
       "[<matplotlib.lines.Line2D at 0x581e5400>]"
      ]
     },
     "execution_count": 258,
     "metadata": {},
     "output_type": "execute_result"
    },
    {
     "data": {
      "image/png": "[encoded data removed]",
      "text/plain": [
       "<matplotlib.figure.Figure at 0x3294c908>"
      ]
     },
     "metadata": {},
     "output_type": "display_data"
    }
   ],
   "source": [
    "from sklearn import cross_validation\n",
    "from sklearn.ensemble import GradientBoostingClassifier\n",
    "\n",
    "n = 5\n",
    "X = range(1,n+1)\n",
    "\n",
    "sGBT_values = []\n",
    "\n",
    "for k in X : \n",
    "    print k\n",
    "    sGBT = GradientBoostingClassifier(n_estimators=100, learning_rate=0.5, max_depth=k, random_state=0,loss='deviance')\n",
    "    cv_auc=cross_validation.cross_val_score(sGBT, treeData, miniLabel, scoring='roc_auc', cv=10)\n",
    "    \n",
    "    auc=0\n",
    "    for i in range(len(cv_auc)):\n",
    "        auc = auc + cv_auc[i]\n",
    "    auc = auc/10\n",
    "    sGBT_values.append(auc)\n",
    "\n",
    "print sGBT_values\n",
    "\n",
    "plt.plot(X,sGBT_values)"
   ]
  },
  {
   "cell_type": "markdown",
   "metadata": {},
   "source": [
    "#### ADA Boost"
   ]
  },
  {
   "cell_type": "code",
   "execution_count": 259,
   "metadata": {
    "collapsed": false
   },
   "outputs": [
    {
     "name": "stdout",
     "output_type": "stream",
     "text": [
      "1\n",
      "2\n",
      "3\n",
      "4\n",
      "5\n",
      "6\n",
      "7\n",
      "8\n",
      "9\n",
      "10\n",
      "[0.23162429406517909, 0.16414590694142933, 0.14702223461280764, 0.15101248285979069, 0.14582306755782071, 0.14993473374959093, 0.15129994340487857, 0.15836576211962453, 0.1643475585449789, 0.17829038302980113]\n"
     ]
    },
    {
     "data": {
      "text/plain": [
       "[<matplotlib.lines.Line2D at 0xb6ee98d0>]"
      ]
     },
     "execution_count": 259,
     "metadata": {},
     "output_type": "execute_result"
    },
    {
     "data": {
      "image/png": "[encoded data removed]",
      "text/plain": [
       "<matplotlib.figure.Figure at 0xa72b97b8>"
      ]
     },
     "metadata": {},
     "output_type": "display_data"
    }
   ],
   "source": [
    "from sklearn.ensemble import AdaBoostClassifier\n",
    "from sklearn.tree import DecisionTreeClassifier\n",
    "\n",
    "ada_values = []\n",
    "n = 10\n",
    "X = range(1,n+1)\n",
    "\n",
    "for k in X:\n",
    "    print k\n",
    "    ada = AdaBoostClassifier(DecisionTreeClassifier(max_depth=k),\n",
    "                         algorithm=\"SAMME\",\n",
    "                         n_estimators=100)\n",
    "    cv_auc=cross_validation.cross_val_score(ada, miniData, miniLabel, scoring='roc_auc', cv=10)\n",
    "    auc=0\n",
    "    for i in range(len(cv_auc)):\n",
    "        auc = auc + cv_auc[i]\n",
    "    auc = auc / 10\n",
    "    ada_values.append(auc)\n",
    "\n",
    "print ada_values\n",
    "plt.plot(X,ada_values)\n"
   ]
  },
  {
   "cell_type": "code",
   "execution_count": 260,
   "metadata": {
    "collapsed": true
   },
   "outputs": [],
   "source": [
    "#### ADA Boost with selected features"
   ]
  },
  {
   "cell_type": "code",
   "execution_count": 261,
   "metadata": {
    "collapsed": false
   },
   "outputs": [
    {
     "name": "stdout",
     "output_type": "stream",
     "text": [
      "1\n",
      "2\n",
      "3\n",
      "4\n",
      "5\n",
      "6\n",
      "7\n",
      "8\n",
      "9\n",
      "10\n",
      "[0.60929132256468677, 0.58710239170456069, 0.62021309681637082, 0.61699264502622841, 0.60783701062512585, 0.61019575981741192, 0.60980494277255048, 0.60827599518960118, 0.60962288118331465, 0.60917728270514571]\n"
     ]
    },
    {
     "data": {
      "text/plain": [
       "[<matplotlib.lines.Line2D at 0x16ac0b38>]"
      ]
     },
     "execution_count": 261,
     "metadata": {},
     "output_type": "execute_result"
    },
    {
     "data": {
      "image/png": "[encoded data removed]",
      "text/plain": [
       "<matplotlib.figure.Figure at 0x9f4fdb70>"
      ]
     },
     "metadata": {},
     "output_type": "display_data"
    }
   ],
   "source": [
    "from sklearn.ensemble import AdaBoostClassifier\n",
    "from sklearn.tree import DecisionTreeClassifier\n",
    "\n",
    "sada_values = []\n",
    "n = 10\n",
    "X = range(1,n+1)\n",
    "\n",
    "for k in X:\n",
    "    print k\n",
    "    sada = AdaBoostClassifier(DecisionTreeClassifier(max_depth=k),\n",
    "                         algorithm=\"SAMME\",\n",
    "                         n_estimators=100)\n",
    "    cv_auc=cross_validation.cross_val_score(sada, treeData, miniLabel, scoring='roc_auc', cv=10)\n",
    "    auc=0\n",
    "    for i in range(len(cv_auc)):\n",
    "        auc = auc + cv_auc[i]\n",
    "    auc = auc / 10\n",
    "    sada_values.append(auc)\n",
    "\n",
    "print sada_values\n",
    "plt.plot(X,sada_values)"
   ]
  },
  {
   "cell_type": "markdown",
   "metadata": {},
   "source": [
    "#### Random Forest"
   ]
  },
  {
   "cell_type": "code",
   "execution_count": 263,
   "metadata": {
    "collapsed": false
   },
   "outputs": [
    {
     "name": "stdout",
     "output_type": "stream",
     "text": [
      "1\n",
      "2\n",
      "3\n",
      "4\n",
      "5\n",
      "6\n",
      "7\n",
      "8\n",
      "9\n",
      "10\n",
      "[0.48743467457132256, 0.13893699111354466, 0.096763041233472125, 0.10778663114455056, 0.08898324920801777, 0.089143979590334155, 0.11283644553345273, 0.089454035885520991, 0.088650507363314729, 0.11032191773509314]\n"
     ]
    },
    {
     "data": {
      "text/plain": [
       "[<matplotlib.lines.Line2D at 0x64aca128>]"
      ]
     },
     "execution_count": 263,
     "metadata": {},
     "output_type": "execute_result"
    },
    {
     "data": {
      "image/png": "[encoded data removed]",
      "text/plain": [
       "<matplotlib.figure.Figure at 0x9f4ba710>"
      ]
     },
     "metadata": {},
     "output_type": "display_data"
    }
   ],
   "source": [
    "from sklearn.ensemble import RandomForestClassifier\n",
    "from sklearn.tree import DecisionTreeClassifier\n",
    "\n",
    "n=10\n",
    "X=range(1,n+1)\n",
    "\n",
    "rf_values=[]\n",
    "\n",
    "for k in X:\n",
    "    print k\n",
    "    rf = RandomForestClassifier(n_estimators=100,max_features=20,max_depth=k)\n",
    "    cv_auc=cross_validation.cross_val_score(rf, miniData, miniLabel, scoring='roc_auc', cv=10)\n",
    "    auc=0\n",
    "    for i in range(len(cv_auc)):\n",
    "        auc = auc + cv_auc[i]\n",
    "    auc = auc / 10\n",
    "    rf_values.append(auc)\n",
    "    \n",
    "print rf_values\n",
    "plt.plot(X,rf_values)"
   ]
  },
  {
   "cell_type": "markdown",
   "metadata": {},
   "source": [
    "#### Random Forest with selected features"
   ]
  },
  {
   "cell_type": "code",
   "execution_count": 265,
   "metadata": {
    "collapsed": false
   },
   "outputs": [
    {
     "name": "stdout",
     "output_type": "stream",
     "text": [
      "1\n",
      "2\n",
      "3\n",
      "4\n",
      "5\n",
      "6\n",
      "7\n",
      "8\n",
      "9\n",
      "10\n",
      "[0.62199424736337483, 0.62297727290411609, 0.60640694729911959, 0.61341141616033479, 0.61005251232983326, 0.60848797768455087, 0.60861521831290166, 0.61031687847793203, 0.61029749667612099, 0.60847059934845427]\n"
     ]
    },
    {
     "data": {
      "text/plain": [
       "[<matplotlib.lines.Line2D at 0x9917e9b0>]"
      ]
     },
     "execution_count": 265,
     "metadata": {},
     "output_type": "execute_result"
    },
    {
     "data": {
      "image/png": "[encoded data removed]",
      "text/plain": [
       "<matplotlib.figure.Figure at 0x64ae5ba8>"
      ]
     },
     "metadata": {},
     "output_type": "display_data"
    }
   ],
   "source": [
    "from sklearn.ensemble import RandomForestClassifier\n",
    "from sklearn.tree import DecisionTreeClassifier\n",
    "\n",
    "n=10\n",
    "X=range(1,n+1)\n",
    "\n",
    "srf_values=[]\n",
    "\n",
    "for k in X:\n",
    "    print k\n",
    "    srf = RandomForestClassifier(n_estimators=100,max_features=3,max_depth=k)\n",
    "    cv_auc=cross_validation.cross_val_score(srf, treeData, miniLabel, scoring='roc_auc', cv=10)\n",
    "    auc=0\n",
    "    for i in range(len(cv_auc)):\n",
    "        auc = auc + cv_auc[i]\n",
    "    auc = auc / 10\n",
    "    srf_values.append(auc)\n",
    "    \n",
    "print srf_values\n",
    "plt.plot(X,srf_values)"
   ]
  },
  {
   "cell_type": "markdown",
   "metadata": {},
   "source": [
    "## V. Adding results"
   ]
  },
  {
   "cell_type": "markdown",
   "metadata": {},
   "source": [
    "We note that following three measures performed relatively well : \n",
    "    - Bagging with n=6 => AUC = 0.736\n",
    "    - KNN with n=60 => AUC = 0.76\n",
    "    - Naive Bayes : 0.3 * Continuous + 0.7 * discrete = 0.698"
   ]
  },
  {
   "cell_type": "code",
   "execution_count": 322,
   "metadata": {
    "collapsed": false
   },
   "outputs": [
    {
     "name": "stdout",
     "output_type": "stream",
     "text": [
      "[0.76666622280795882, 0.84498760693837749, 0.85411267596834928, 0.8537330338147916, 0.85047131169276613, 0.84834787623994823, 0.84115383833930824, 0.81852751935752655, 0.81094870047855583, 0.78109578586289918, 0.73195466142698551]\n"
     ]
    },
    {
     "data": {
      "text/plain": [
       "[<matplotlib.lines.Line2D at 0x9b7af278>]"
      ]
     },
     "execution_count": 322,
     "metadata": {},
     "output_type": "execute_result"
    },
    {
     "data": {
      "image/png": "[encoded data removed]",
      "text/plain": [
       "<matplotlib.figure.Figure at 0x710ab208>"
      ]
     },
     "metadata": {},
     "output_type": "display_data"
    }
   ],
   "source": [
    "import numpy as np\n",
    "import sys\n",
    "from sklearn.cross_validation import KFold\n",
    "from sklearn import tree\n",
    "from sklearn import metrics\n",
    "\n",
    "knnSample_final = [3,4,10,11,12]\n",
    "\n",
    "kf = KFold(len(miniData), n_folds=10)\n",
    "auc=0\n",
    "\n",
    "weights = [0,0.1,0.2,0.3,0.4,0.5,0.6,0.7,0.8,0.9,1]\n",
    "auc_scores = []\n",
    "for weight in weights:\n",
    "    for train, test in kf:\n",
    "        data_train, data_test, labels_train, labels_test = miniData[train], miniData[test], miniLabel[train], miniLabel[test]\n",
    "    \n",
    "        #Bagging classifier\n",
    "        bag_dt=ensemble.BaggingClassifier (\n",
    "        base_estimator=tree.DecisionTreeClassifier(random_state=0,max_depth=6 ,min_samples_leaf=5), \n",
    "        n_estimators=45)\n",
    "        bag_dt.fit(data_train,labels_train)\n",
    "        bagProb = bag_dt.predict_proba(data_test)    \n",
    "\n",
    "        #Parse set for K-nn\n",
    "        data_train_knn = data_train[:,knnSample_final]\n",
    "        data_test_knn = data_test[:,knnSample_final]\n",
    "        labels_train_knn = labels_train\n",
    "        labels_test_knn = labels_test\n",
    "\n",
    "        #Form k-nn algorithm\n",
    "        knnNeigh = KNeighborsClassifier(n_neighbors=60)\n",
    "        knnNeigh.fit(data_train_knn, labels_train_knn)\n",
    "        knnProb = knnNeigh.predict_proba(data_test_knn)\n",
    "\n",
    "        prob = weight * bagProb + (1-weight) * knnProb\n",
    "        auc += metrics.roc_auc_score(labels_test, prob[:,1])\n",
    "    auc = auc/10\n",
    "    auc_scores.append(auc)\n",
    "\n",
    "print auc_scores\n",
    "plt.plot(weights, auc_scores)"
   ]
  },
  {
   "cell_type": "code",
   "execution_count": 323,
   "metadata": {
    "collapsed": false
   },
   "outputs": [
    {
     "name": "stdout",
     "output_type": "stream",
     "text": [
      "0.854112675968\n",
      "0.2\n"
     ]
    }
   ],
   "source": [
    "print max(auc_scores)\n",
    "print weights[auc_scores.index(max(auc_scores))]"
   ]
  },
  {
   "cell_type": "markdown",
   "metadata": {},
   "source": [
    "#### Hence, we see that max AUC of 0.8541 is acheived when we have 0.2 x bagging classifier + 0.8 x knn"
   ]
  }
 ],
 "metadata": {
  "kernelspec": {
   "display_name": "Python 2",
   "language": "python",
   "name": "python2"
  },
  "language_info": {
   "codemirror_mode": {
    "name": "ipython",
    "version": 2
   },
   "file_extension": ".py",
   "mimetype": "text/x-python",
   "name": "python",
   "nbconvert_exporter": "python",
   "pygments_lexer": "ipython2",
   "version": "2.7.10"
  }
 },
 "nbformat": 4,
 "nbformat_minor": 0
}
